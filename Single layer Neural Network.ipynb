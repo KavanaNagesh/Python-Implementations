{
 "cells": [
  {
   "cell_type": "code",
   "execution_count": 0,
   "metadata": {
    "colab": {
     "base_uri": "https://localhost:8080/",
     "height": 54
    },
    "colab_type": "code",
    "id": "QaHl2MtOgW0k",
    "outputId": "516c9d1e-e134-47b7-c334-f1ae0f439e28"
   },
   "outputs": [
    {
     "name": "stdout",
     "output_type": "stream",
     "text": [
      "2.2.0-rc2\n"
     ]
    },
    {
     "name": "stderr",
     "output_type": "stream",
     "text": [
      "Using TensorFlow backend.\n"
     ]
    }
   ],
   "source": [
    "%tensorflow_version 2.x\n",
    "import tensorflow as tf\n",
    "from keras.utils import np_utils\n",
    "import matplotlib.pyplot as plt\n",
    "import numpy as np\n",
    "print(tf.__version__)\n"
   ]
  },
  {
   "cell_type": "markdown",
   "metadata": {},
   "source": [
    "# FORWARD PASS\n",
    "\n",
    "The obtained data is multiplied with weights (transposing weights for ease of calculation) using matrix multiplication. The data in this case is in shape (60000,784) which is multiplied with transposed weights in shape (784,10). This results in a matrix in shape (60000,10). Later this product is added to the bias which is in shape (1,10). Although the shapes aren’t same for addition operation, the result in shape (60000,10) is obtained. This is because of the broadcasting support of python. The broadcasting reshapes the bias to (60000,10) and performs addition. This result is known as inactivated value. This value is sent to an activation function which is softmax activation to introduce a non-linearity property to the function. An activation free neural network will not be able to mathematically execute these dynamic mappings and be able to overcome problems that the network needs to solve.\n",
    "The softmax function generates a probability distributed vector which sums to 1. The formula used in softmax function is \n",
    "\n",
    "<center>$e^x/(e^x/(∑e^x ))$</center>\n"
   ]
  },
  {
   "cell_type": "code",
   "execution_count": 1,
   "metadata": {},
   "outputs": [],
   "source": [
    "def forward_pass(data):\n",
    "  # computing z = wx+b\n",
    "    z = tf.matmul(data,tf.transpose(w)) + b\n",
    "    # computing actiavted value\n",
    "    a = softmax(z)\n",
    "    return a"
   ]
  },
  {
   "attachments": {
    "image.png": {
     "image/png": "[encoded data removed]"
    }
   },
   "cell_type": "markdown",
   "metadata": {},
   "source": [
    "# CROSS ENTROPY LOSS\n",
    "The cross-entropy loss is used to measure the performance of the model whose output are between 0 and 1. The function takes the predicted value and actual label as input. The input shapes are in (60000,10). The log values are found for the predicted values using tf.math.log function which results log values in shape (60000,10). Then these log values are multiplied with the actual labels and this product is reduced to sum of all the values column wise which results in shape (60000,1). The average loss is calculated by finding the mean of all the values and is returned.\n",
    " \n",
    "![image.png](attachment:image.png)"
   ]
  },
  {
   "cell_type": "code",
   "execution_count": null,
   "metadata": {},
   "outputs": [],
   "source": [
    "# Defining cross entropy loss\n",
    "def cross_entropy(pred, real):\n",
    "    pred = tf.math.log(pred)\n",
    "    pred = tf.cast(pred,tf.float64)\n",
    "    # reducing sum for the product\n",
    "    loss = tf.reduce_sum(tf.multiply(real,pred),axis=1)\n",
    "    # finding average loss\n",
    "    loss = tf.reduce_mean(loss)\n",
    "    return -loss"
   ]
  },
  {
   "cell_type": "markdown",
   "metadata": {},
   "source": [
    "# CALCULATE ACCURACY\n",
    "\n",
    "This function takes predicted values and actual labels as input, computes accuracy of the model and outputs the accuracy. The inputs are in shape (60000,10). Since the predicted values are in matrix and the it is necessary to have a scalar value for comparison, the class with maximum probability is chosen. This is done using the argmax function which returns the index of maximum value in a given matrix. The argmax computes vertically, therefore the matrices are transposed and then used. The shape of the matrices after transpose is (10,60000) which is fed into argmax functions and is resulted in shape (1,60000). Later, an elementwise comparison is made between both predicted and actual values using tf.math.equal. This results in an array of Boolean values which is type-casted into decimal values. The total average of these values is found and returned to the model."
   ]
  },
  {
   "cell_type": "code",
   "execution_count": null,
   "metadata": {},
   "outputs": [],
   "source": [
    "def calculate_accuracy(pred,real):\n",
    "    pred = tf.transpose(pred)\n",
    "    real = tf.transpose(real)\n",
    "    # finding the indices of maximum probability values\n",
    "    pr = tf.math.argmax(pred)\n",
    "    re = tf.math.argmax(real)\n",
    "    # elementwise comparision between predicted and actual values\n",
    "    acc = tf.cast(tf.math.equal(pr,re),dtype = tf.float64)\n",
    "    acc = tf.math.reduce_mean(acc)\n",
    "    return acc"
   ]
  },
  {
   "cell_type": "markdown",
   "metadata": {},
   "source": [
    "# SOFTMAX\n",
    "\n",
    "The softmax function generates a probability distributed vector which sums to 1. The formula used in softmax function is   \n",
    "\n",
    "<center>$e^x/(e^x/(∑e^x ))$</center>"
   ]
  },
  {
   "cell_type": "code",
   "execution_count": null,
   "metadata": {},
   "outputs": [],
   "source": [
    "# Defining the softmax function\n",
    "def softmax(s):\n",
    "    exps = tf.math.exp(s)\n",
    "    return exps/tf.math.reduce_sum(exps,axis=1,keepdims=True)"
   ]
  },
  {
   "cell_type": "code",
   "execution_count": 0,
   "metadata": {
    "colab": {
     "base_uri": "https://localhost:8080/",
     "height": 272
    },
    "colab_type": "code",
    "id": "1llpSX0pgW0p",
    "outputId": "7b438d58-08e4-4677-8e74-53a5af35543f"
   },
   "outputs": [
    {
     "name": "stdout",
     "output_type": "stream",
     "text": [
      "Downloading data from https://storage.googleapis.com/tensorflow/tf-keras-datasets/train-labels-idx1-ubyte.gz\n",
      "32768/29515 [=================================] - 0s 0us/step\n",
      "Downloading data from https://storage.googleapis.com/tensorflow/tf-keras-datasets/train-images-idx3-ubyte.gz\n",
      "26427392/26421880 [==============================] - 0s 0us/step\n",
      "Downloading data from https://storage.googleapis.com/tensorflow/tf-keras-datasets/t10k-labels-idx1-ubyte.gz\n",
      "8192/5148 [===============================================] - 0s 0us/step\n",
      "Downloading data from https://storage.googleapis.com/tensorflow/tf-keras-datasets/t10k-images-idx3-ubyte.gz\n",
      "4423680/4422102 [==============================] - 0s 0us/step\n",
      "Shape of training features  (60000, 784)\n",
      "Shape of test features  (10000, 784)\n",
      "Shape of training labels  (60000, 10)\n",
      "Shape of testing labels  (10000, 10)\n",
      "Train Accuracy:   tf.Tensor(0.77615, shape=(), dtype=float64)\n",
      "Test Accuracy:   tf.Tensor(0.7663, shape=(), dtype=float64)\n"
     ]
    }
   ],
   "source": [
    "fashion_mnist = tf.keras.datasets.fashion_mnist\n",
    "\n",
    "# load the training and test data    \n",
    "(tr_x, tr_y), (te_x, te_y) = fashion_mnist.load_data()\n",
    "\n",
    "# reshape the feature data\n",
    "tr_x = tr_x.reshape(tr_x.shape[0], 784)\n",
    "te_x = te_x.reshape(te_x.shape[0], 784)\n",
    "\n",
    "# noramlise feature data\n",
    "tr_x = tr_x / 255.0\n",
    "te_x = te_x / 255.0\n",
    "\n",
    "print( \"Shape of training features \", tr_x.shape)\n",
    "print( \"Shape of test features \", te_x.shape)\n",
    "\n",
    "\n",
    "# one hot encode the training labels and get the transpose\n",
    "tr_y = np_utils.to_categorical(tr_y,10)\n",
    "# tr_y = tr_y.T\n",
    "print (\"Shape of training labels \", tr_y.shape)\n",
    "\n",
    "# one hot encode the test labels and get the transpose\n",
    "te_y = np_utils.to_categorical(te_y,10)\n",
    "# te_y = te_y.T\n",
    "print (\"Shape of testing labels \", te_y.shape)\n",
    "\n",
    "neurons = 10\n",
    "input_dim = tr_x.shape[1]\n",
    "output_dim = tr_y.shape[1]\n",
    "\n",
    "# initializing all weights and bias\n",
    "w = tf.random.normal((neurons,input_dim),dtype=tf.dtypes.float64,mean=0.0, stddev=0.05)\n",
    "w = tf.Variable(w,trainable = True)\n",
    "b = tf.zeros([1, neurons], tf.float64) \n",
    "b = tf.Variable(b,trainable = True)\n",
    "\n",
    "# using adam optimizer for gradient update.\n",
    "adam = tf.keras.optimizers.Adam()\n",
    "epochs = 100\n",
    "tr_p =[]\n",
    "tr_loss = []\n",
    "te_p = []\n",
    "te_loss = []\n",
    "for i in range(epochs):\n",
    "    with tf.GradientTape(persistent=True) as tape:\n",
    "      # predicting the values\n",
    "        y_pred = forward_pass(tr_x)\n",
    "      # computing loss\n",
    "        loss=cross_entropy(y_pred,tr_y)\n",
    "# computing accuracy\n",
    "    train_acc = calculate_accuracy(y_pred,tr_y)\n",
    "    tr_loss.append(loss.numpy())\n",
    "    tr_p.append(train_acc.numpy())\n",
    "    # updating weights and bais using gradient descent rule\n",
    "    gradients=tape.gradient(loss,[w,b])\n",
    "    adam.apply_gradients(grads_and_vars=zip(gradients,[w,b]))\n",
    "\n",
    "\n",
    "    y_test_pred = forward_pass(te_x)\n",
    "    test_loss = cross_entropy(y_test_pred,te_y)\n",
    "    te_loss.append(test_loss.numpy())\n",
    "    test_acc = calculate_accuracy(y_test_pred,te_y)\n",
    "    te_p.append(test_acc.numpy())\n",
    "    \n",
    "print(\"Train Accuracy:  \" , train_acc)\n",
    "print(\"Test Accuracy:  \" , test_acc)\n",
    "\n",
    "\n",
    "\n",
    "\n"
   ]
  },
  {
   "cell_type": "code",
   "execution_count": 0,
   "metadata": {
    "colab": {
     "base_uri": "https://localhost:8080/",
     "height": 295
    },
    "colab_type": "code",
    "id": "iDRdV7Tlh97r",
    "outputId": "161cc4ce-5568-43e6-9918-dda3b1ad5162"
   },
   "outputs": [
    {
     "data": {
      "image/png": "[encoded data removed]",
      "text/plain": [
       "<Figure size 432x288 with 1 Axes>"
      ]
     },
     "metadata": {
      "needs_background": "light",
      "tags": []
     },
     "output_type": "display_data"
    }
   ],
   "source": [
    "plt.plot(range(epochs),tr_p,label = \"train acc\")\n",
    "plt.plot(range(epochs),te_p,label = \"test acc\")\n",
    "plt.plot(range(epochs),tr_loss,label = \"train loss\")\n",
    "plt.plot(range(epochs),te_loss,label = \"test acc\")\n",
    "plt.xlabel(\"epochs\")\n",
    "plt.ylabel(\"accuracy/loss\")\n",
    "plt.title(\"Accuracy vs Epochs\")\n",
    "plt.legend()\n",
    "plt.show()\n"
   ]
  }
 ],
 "metadata": {
  "accelerator": "GPU",
  "colab": {
   "collapsed_sections": [],
   "name": "question1_1.ipynb",
   "provenance": []
  },
  "kernelspec": {
   "display_name": "Python 3",
   "language": "python",
   "name": "python3"
  },
  "language_info": {
   "codemirror_mode": {
    "name": "ipython",
    "version": 3
   },
   "file_extension": ".py",
   "mimetype": "text/x-python",
   "name": "python",
   "nbconvert_exporter": "python",
   "pygments_lexer": "ipython3",
   "version": "3.7.3"
  }
 },
 "nbformat": 4,
 "nbformat_minor": 1
}
